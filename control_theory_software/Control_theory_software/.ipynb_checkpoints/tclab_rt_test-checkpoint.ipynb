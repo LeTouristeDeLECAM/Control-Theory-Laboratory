{
 "cells": [
  {
   "cell_type": "markdown",
   "metadata": {},
   "source": [
    "# TCLab Close loop with PID and FF\n",
    "## Imports"
   ]
  },
  {
   "cell_type": "code",
   "execution_count": 1,
   "metadata": {},
   "outputs": [],
   "source": [
    "import numpy as np\n",
    "import tclab\n",
    "import time\n",
    "from datetime import datetime\n",
    "import os\n",
    "\n",
    "import matplotlib.pyplot as plt\n",
    "from IPython.display import display, clear_output\n",
    "\n",
    "import package_DBR\n",
    "import package_LAB\n",
    "\n",
    "from importlib import reload\n",
    "from package_DBR import myRound, SelectPath_RT, Delay_RT, FO_RT, FOPDT, SOPDT, FOPDT_cost, SOPDT_cost, Process, Bode\n",
    "from package_LAB import LL_RT, PID_RT,IMC_Tuning, FF_RT\n",
    "package_LAB=reload(package_LAB)"
   ]
  },
  {
   "cell_type": "markdown",
   "metadata": {},
   "source": [
    "## Parameters"
   ]
  },
  {
   "cell_type": "code",
   "execution_count": 2,
   "metadata": {},
   "outputs": [
    {
     "name": "stdout",
     "output_type": "stream",
     "text": [
      "Kc :  1.9373102059878127 T_I :  184.5046842733446 T_D 1.78243605578892e-07\n"
     ]
    }
   ],
   "source": [
    "Ts = 1\n",
    "\n",
    "\n",
    "TSim = 4000\n",
    "Ts = 1\n",
    "N = int(TSim / Ts) + 1\n",
    "\n",
    "# DV MV PV \n",
    "DV0 = 40\n",
    "MV0 = 100\n",
    "\n",
    "\n",
    "# paramètres de ^P(s) 2eme ordre pouvant être considérer comme premier ordre \n",
    "\n",
    "Kp = 0.57353288531197\n",
    "T1p = 184.504684095101\n",
    "T2p= 1.78243605751087E-07\n",
    "thetap=6.19336906382859\n",
    "\n",
    "# paramètres de ^D(s) 2ème ordre \n",
    "Kd = 0.553358040201031\n",
    "T1d= 172.259419274141\n",
    "T2d= 22.1508608750117\n",
    "thetad =0.533716544751782\n",
    "\n",
    "#rapport des gains \n",
    "KFF = -Kd/Kp\n",
    "\n",
    "#Coef PID\n",
    "alpha= 2\n",
    "gamma = 0.9\n",
    "Kc,T_I,T_D = IMC_Tuning(Kp,T1p,T2p,thetap,gamma,'SOPDT')\n",
    "print('Kc : ',Kc,'T_I : ',T_I,'T_D',T_D )\n",
    "\n",
    "#limites\n",
    "MV_MIN = 0\n",
    "MV_MAX = 100"
   ]
  },
  {
   "cell_type": "markdown",
   "metadata": {},
   "source": [
    "## Vectors"
   ]
  },
  {
   "cell_type": "code",
   "execution_count": 3,
   "metadata": {},
   "outputs": [],
   "source": [
    "Exp = True\n",
    "\n",
    "t = []\n",
    "MV = []\n",
    "PV = []\n",
    "DV = []\n",
    "i = 0\n",
    "\n",
    "t = []\n",
    "SP = []\n",
    "DV = []\n",
    "PV = []\n",
    "E = []\n",
    "MV = []\n",
    "MV_P = []\n",
    "MV_I = []\n",
    "MV_D = []\n",
    "MAN = []\n",
    "MV_MAN = []\n",
    "\n",
    "MVFFDelay = []\n",
    "MVFFLL1 = []\n",
    "MV_FF = []\n",
    "\n",
    "PV_LL1 = []\n",
    "PV_LL2 = []\n",
    "\n",
    "MVDelayp = []\n",
    "PV1p = []\n",
    "PV2p = []\n",
    "\n",
    "DVDelayd = []\n",
    "PV1d = []\n",
    "PV2d = []\n",
    "\n",
    "\n"
   ]
  },
  {
   "cell_type": "markdown",
   "metadata": {},
   "source": [
    "## Path mode selection"
   ]
  },
  {
   "cell_type": "code",
   "execution_count": 4,
   "metadata": {},
   "outputs": [],
   "source": [
    "# Select mode \n",
    "\n",
    "#selectmode=\"CLP_Rp_SP_NO_FF\"\n",
    "#selectmode=\"Rp_DV_NO_FF_C_Man\"\n",
    "#selectmode=\"Rp_DV_FF_C_Man\"\n",
    "#selectmode=\"Rp_DV_NO_FF_C_Auto\"\n",
    "selectmode=\"Rp_DV_FF_C_Auto\""
   ]
  },
  {
   "cell_type": "code",
   "execution_count": 5,
   "metadata": {},
   "outputs": [],
   "source": [
    "if selectmode==\"CLP_Rp_SP_NO_FF\": \n",
    "    # Closed loop response to a SP change\n",
    "    ManPath = {0: False, TSim: False}\n",
    "    MVManPath = {0: MV0, TSim: MV0}\n",
    "    SPPath = {0: PV0, 850: PV0 + 10, TSim: PV0 + 10}\n",
    "    DVPath = {0: DV0, 1500: DV0 + 20 , TSim: DV0 + 20}\n",
    "    FF = False\n",
    "    ManFF = False\n",
    "    \n",
    "elif selectmode==\"Rp_DV_NO_FF_C_Man\":\n",
    "    # Response to DV : No FF and controller in manual mode\n",
    "    ManPath = {0: False, 1: True, TSim: True}\n",
    "    MVManPath = {0: MV0, TSim: MV0}\n",
    "    SPPath = {0: PV0, 850: PV0, TSim: PV0}\n",
    "    DVPath = {0: DV0, 1500: DV0 + 20, TSim: DV0 + 20}\n",
    "    FF = False\n",
    "    ManFF = True\n",
    "    \n",
    "elif selectmode==\"Rp_DV_FF_C_Man\":\n",
    "    # Response to DV : FF and controller in manual mode\n",
    "    ManPath = {0: False, 1: True, TSim: True}\n",
    "    MVManPath = {0: MV0, TSim: MV0}\n",
    "    SPPath = {0: PV0, 850: PV0, TSim: PV0}\n",
    "    DVPath = {0: DV0, 1500: DV0 + 20, TSim: DV0 + 20}\n",
    "    FF = True\n",
    "    ManFF = True\n",
    "    \n",
    "elif selectmode==\"Rp_DV_NO_FF_C_Auto\":\n",
    "    \n",
    "    # Response to DV : No FF and controller in automatic mode\n",
    "    ManPath = {0: False, TSim: True}\n",
    "    MVManPath = {0: MV0, TSim: MV0}\n",
    "    SPPath = {0: PV0, 850: PV0, TSim: PV0}\n",
    "    DVPath = {0: DV0, 1500: DV0 + 20, TSim: DV0 + 20}\n",
    "    FF = False\n",
    "    ManFF = False\n",
    "    \n",
    "elif selectmode==\"Rp_DV_FF_C_Auto\":\n",
    "    \n",
    "    # Response to DV : FF and controller in automatic mode\n",
    "    ManPath = {0: False, TSim: False}\n",
    "    MVManPath = {0: MV0, TSim: MV0}\n",
    "    \n",
    "    DVPath = {0: DV0, 1500: DV0 + 20, TSim: DV0 + 20}\n",
    "    FF = True\n",
    "    ManFF = False"
   ]
  },
  {
   "cell_type": "code",
   "execution_count": null,
   "metadata": {},
   "outputs": [],
   "source": []
  },
  {
   "cell_type": "markdown",
   "metadata": {},
   "source": [
    "## Experimentation"
   ]
  },
  {
   "cell_type": "code",
   "execution_count": 6,
   "metadata": {},
   "outputs": [
    {
     "name": "stdout",
     "output_type": "stream",
     "text": [
      "TCLab version 0.4.9\n",
      "Arduino Leonardo connected on port COM8 at 115200 baud.\n",
      "TCLab Firmware 1.4.3 Arduino Leonardo/Micro.\n"
     ]
    },
    {
     "ename": "IndexError",
     "evalue": "list index out of range",
     "output_type": "error",
     "traceback": [
      "\u001b[1;31m---------------------------------------------------------------------------\u001b[0m",
      "\u001b[1;31mIndexError\u001b[0m                                Traceback (most recent call last)",
      "\u001b[1;32m<ipython-input-6-8f7183d6934f>\u001b[0m in \u001b[0;36m<module>\u001b[1;34m\u001b[0m\n\u001b[0;32m     36\u001b[0m \u001b[1;33m\u001b[0m\u001b[0m\n\u001b[0;32m     37\u001b[0m     \u001b[1;31m#mode manuel\u001b[0m\u001b[1;33m\u001b[0m\u001b[1;33m\u001b[0m\u001b[1;33m\u001b[0m\u001b[0m\n\u001b[1;32m---> 38\u001b[1;33m     \u001b[0mSelectPath_RT\u001b[0m\u001b[1;33m(\u001b[0m\u001b[0mManPath\u001b[0m\u001b[1;33m,\u001b[0m\u001b[0mt\u001b[0m\u001b[1;33m,\u001b[0m\u001b[0mMAN\u001b[0m\u001b[1;33m)\u001b[0m\u001b[1;33m\u001b[0m\u001b[1;33m\u001b[0m\u001b[0m\n\u001b[0m\u001b[0;32m     39\u001b[0m     \u001b[0mSelectPath_RT\u001b[0m\u001b[1;33m(\u001b[0m\u001b[0mMVManPath\u001b[0m\u001b[1;33m,\u001b[0m\u001b[0mt\u001b[0m\u001b[1;33m,\u001b[0m\u001b[0mMV_MAN\u001b[0m\u001b[1;33m)\u001b[0m\u001b[1;33m\u001b[0m\u001b[1;33m\u001b[0m\u001b[0m\n\u001b[0;32m     40\u001b[0m \u001b[1;33m\u001b[0m\u001b[0m\n",
      "\u001b[1;32m~\\OneDrive - ECAM\\Documents\\Cours ECAM\\4MIN\\Q2 21-22\\Control theory\\2023\\Laboratory\\control_theory_software\\Control_theory_software\\package_DBR.py\u001b[0m in \u001b[0;36mSelectPath_RT\u001b[1;34m(path, time, signal)\u001b[0m\n\u001b[0;32m     33\u001b[0m \u001b[1;33m\u001b[0m\u001b[0m\n\u001b[0;32m     34\u001b[0m     \u001b[1;32mfor\u001b[0m \u001b[0mtimeKey\u001b[0m \u001b[1;32min\u001b[0m \u001b[0mpath\u001b[0m\u001b[1;33m:\u001b[0m\u001b[1;33m\u001b[0m\u001b[1;33m\u001b[0m\u001b[0m\n\u001b[1;32m---> 35\u001b[1;33m         \u001b[1;32mif\u001b[0m\u001b[1;33m(\u001b[0m\u001b[0mtime\u001b[0m\u001b[1;33m[\u001b[0m\u001b[1;33m-\u001b[0m\u001b[1;36m1\u001b[0m\u001b[1;33m]\u001b[0m \u001b[1;33m>=\u001b[0m \u001b[0mtimeKey\u001b[0m\u001b[1;33m)\u001b[0m\u001b[1;33m:\u001b[0m\u001b[1;33m\u001b[0m\u001b[1;33m\u001b[0m\u001b[0m\n\u001b[0m\u001b[0;32m     36\u001b[0m             \u001b[0mtimeKeyPrevious\u001b[0m \u001b[1;33m=\u001b[0m \u001b[0mtimeKey\u001b[0m\u001b[1;33m\u001b[0m\u001b[1;33m\u001b[0m\u001b[0m\n\u001b[0;32m     37\u001b[0m \u001b[1;33m\u001b[0m\u001b[0m\n",
      "\u001b[1;31mIndexError\u001b[0m: list index out of range"
     ]
    },
    {
     "data": {
      "image/png": "[encoded data removed]",
      "text/plain": [
       "<Figure size 1584x864 with 3 Axes>"
      ]
     },
     "metadata": {
      "needs_background": "light"
     },
     "output_type": "display_data"
    }
   ],
   "source": [
    "fig, (ax1, ax2, ax3) = plt.subplots(3,1)\n",
    "fig.set_figheight(12)\n",
    "fig.set_figwidth(22)\n",
    "\n",
    "l1, = ax1.step([0,1],[0,100],'b-',linewidth=2,label='MV',where='post')\n",
    "ax1.set_ylabel('Value of MV [%]')\n",
    "ax1.set_title('Real-time test')\n",
    "ax1.legend(loc='best')\n",
    "\n",
    "l2, = ax2.step([0,1],[0,100],'g-',linewidth=2,label='PV',where='post')\n",
    "l4, = ax2.step([0,1],[0,100],'r-',linewidth=2,label='SP',where='post')\n",
    "ax2.set_ylabel('Value of PV [°C]')\n",
    "ax2.legend(loc='best')\n",
    "\n",
    "l3, = ax3.step([0,1],[0,100],'r-',linewidth=2,label='DV',where='post')\n",
    "ax3.set_xlabel('Time [s]')\n",
    "ax3.set_ylabel('Value of DV [%]')\n",
    "ax3.legend(loc='best') \n",
    "\n",
    "lab = tclab.TCLab()\n",
    "\n",
    "\n",
    "\n",
    "# Experiment is started\n",
    "while Exp:\n",
    "    \n",
    "    \n",
    "     # SP et DV creation\n",
    "    #SelectPath_RT(SPPath, t, SP)\n",
    "    #SelectPath_RT(DVPath,t,DV)\n",
    "    \n",
    "     #feedforward \n",
    "\n",
    "    if FF== True:\n",
    "        FF_RT(DV, thetad, thetap, Ts, MVFFDelay, KFF, T1p, T1d, MVFFLL1, T2p, T2d, MV_FF, DV0)\n",
    "    else:\n",
    "        LL_RT(DV,0,T2p,T2d,Ts,MV_FF)\n",
    "    \n",
    "    #mode manuel\n",
    "    #SelectPath_RT(ManPath,t,MAN)\n",
    "    #SelectPath_RT(MVManPath,t,MV_MAN)\n",
    "    \n",
    "    #PID\n",
    "    PID_RT(SP,PV,MAN,MV_MAN,MV_FF,Kc,T_I,T_D,alpha,Ts,MV_MAX,MV_MIN,MV,MV_P,MV_I,MV_D,E,FF)\n",
    "    \n",
    "    \n",
    "    \n",
    "    \n",
    "    \n",
    "    lab.Q1(MV[-1])\n",
    "    lab.Q2(DV[-1])\n",
    "    \n",
    "    t.append(i*Ts)\n",
    "    PV.append(lab.T1)\n",
    "    time.sleep(Ts)\n",
    "    \n",
    "    \n",
    "    \n",
    "    \n",
    "    \n",
    "    \n",
    "    l1.set_data(t,MV)\n",
    "    l2.set_data(t,PV)\n",
    "    l3.set_data(t,DV)\n",
    "    l4.set_data(t,SP)\n",
    "    \n",
    "    clear_output(wait=True)    \n",
    "    \n",
    "    # Remove if increasing x-axis length is not desired\n",
    "    ax1.set_xlim(0, t[-1]+1)\n",
    "    ax2.set_xlim(0, t[-1]+1)\n",
    "    ax3.set_xlim(0, t[-1]+1)\n",
    "    \n",
    "    if i > 1:\n",
    "        ax1.set_ylim(myRound(np.min(MV),5)-5, myRound(np.max(MV),5)+5)\n",
    "        ax2.set_ylim(myRound(np.min(PV),5)-5, myRound(np.max(PV),5)+5)\n",
    "        ax3.set_ylim(myRound(np.min(DV),5)-5, myRound(np.max(DV),5)+5)    \n",
    "    \n",
    "    display(fig)     \n",
    "    \n",
    "    i = i + 1\n",
    "    \n",
    "    if i == 5:\n",
    "        Exp = False\n",
    "        lab.close()\n",
    "\n",
    "# Save data in text file\n",
    "# ----------------------\n",
    "now = datetime.now()\n",
    "date_time = now.strftime(\"%Y-%m-%d-%Hh%M\")\n",
    "# Conversion to array\n",
    "t = np.array(t) \n",
    "MV = np.array(MV)\n",
    "PV = np.array(PV)\n",
    "DV = np.array(DV)        \n",
    "my_data = np.vstack((t.T,MV.T,PV.T,DV.T))\n",
    "my_data = my_data.T\n",
    "nameFile = 'Data/RT_test_on_' + date_time + '.txt'\n",
    "if not os.path.exists('Data'):\n",
    "    os.makedirs('Data')\n",
    "np.savetxt(nameFile,my_data,delimiter=',',header='t,MV,PV,DV',comments='')        \n",
    "\n",
    "\n",
    "# Save Plot\n",
    "# ---------\n",
    "if not os.path.exists('Plots'):\n",
    "    os.makedirs('Plots')\n",
    "\n",
    "titleName = 'RT_test_on_' + date_time\n",
    "plt.savefig('Plots\\\\' + titleName + '.png',transparent=True)\n",
    "plt.savefig('Plots\\\\' + titleName + '.pdf',transparent=True)\n",
    "    "
   ]
  },
  {
   "cell_type": "code",
   "execution_count": null,
   "metadata": {},
   "outputs": [],
   "source": []
  }
 ],
 "metadata": {
  "kernelspec": {
   "display_name": "Python 3",
   "language": "python",
   "name": "python3"
  },
  "language_info": {
   "codemirror_mode": {
    "name": "ipython",
    "version": 3
   },
   "file_extension": ".py",
   "mimetype": "text/x-python",
   "name": "python",
   "nbconvert_exporter": "python",
   "pygments_lexer": "ipython3",
   "version": "3.7.11"
  }
 },
 "nbformat": 4,
 "nbformat_minor": 4
}
