{
 "cells": [
  {
   "cell_type": "markdown",
   "id": "101e84c8-4446-42fd-af50-b0b43730c4ab",
   "metadata": {},
   "source": [
    "# Imports"
   ]
  },
  {
   "cell_type": "code",
   "execution_count": 73,
   "id": "70da5084-aedf-47e8-abb6-8431e7655d0d",
   "metadata": {},
   "outputs": [],
   "source": [
    "import numpy as np\n",
    "import matplotlib.pyplot as plt\n",
    "from scipy.optimize import minimize\n",
    "from matplotlib import colors as mcolors\n",
    "\n",
    "from datetime import datetime\n",
    "\n",
    "import package_DBR\n",
    "import package_LAB\n",
    "\n",
    "from importlib import reload\n",
    "from package_DBR import myRound, SelectPath_RT, Delay_RT, FO_RT, FOPDT, SOPDT, FOPDT_cost, SOPDT_cost, Process, Bode\n",
    "from package_LAB import LL_RT, PID_RT,IMC_Tuning, FF_RT, Controller, Margins\n",
    "package_LAB=reload(package_LAB)"
   ]
  },
  {
   "cell_type": "markdown",
   "id": "bf95f5b3-d230-45de-8342-d2cd027b2c00",
   "metadata": {},
   "source": [
    "# Parametres"
   ]
  },
  {
   "cell_type": "code",
   "execution_count": 74,
   "id": "4b53e95a-bfe9-4af4-abc4-ab8e85efdb2a",
   "metadata": {},
   "outputs": [
    {
     "name": "stdout",
     "output_type": "stream",
     "text": [
      "Kc :  1.8676518876185928 T_I :  184.5046842733446 T_D 1.78243605578892e-07\n"
     ]
    }
   ],
   "source": [
    "TSim = 4000\n",
    "Ts = 1\n",
    "N = int(TSim / Ts) + 1\n",
    "\n",
    "# DV MV PV \n",
    "DV0 = 50\n",
    "MV0 = 50\n",
    "PV0 = 40\n",
    "\n",
    "\n",
    "# paramètres de ^P(s) 2eme ordre pouvant être considérer comme premier ordre \n",
    "\n",
    "Kp = 0.57353288531197\n",
    "T1p = 184.504684095101\n",
    "T2p= 1.78243605751087E-07\n",
    "thetap=6.19336906382859\n",
    "\n",
    "# paramètres de ^D(s) 2ème ordre \n",
    "Kd = 0.553358040201031\n",
    "T1d= 172.259419274141\n",
    "T2d= 22.1508608750117\n",
    "thetad =0.533716544751782\n",
    "\n",
    "#rapport des gains \n",
    "KFF = -Kd/Kp\n",
    "\n",
    "#Coef PID\n",
    "alpha= 2\n",
    "gamma = 0.9\n",
    "Kc,T_I,T_D = IMC_Tuning(Kp,T1p,T2p,thetap,gamma,'SOPDT')\n",
    "print('Kc : ',Kc,'T_I : ',T_I,'T_D',T_D )\n",
    "\n",
    "#limites\n",
    "MV_MIN = 0\n",
    "MV_MAX = 100"
   ]
  },
  {
   "cell_type": "code",
   "execution_count": null,
   "id": "11d7667c-3c06-4043-b2d9-8e03260acee1",
   "metadata": {},
   "outputs": [],
   "source": []
  },
  {
   "cell_type": "markdown",
   "id": "fd417fff-4fa0-4f20-b128-490639d1505d",
   "metadata": {},
   "source": [
    "# Vectors"
   ]
  },
  {
   "cell_type": "code",
   "execution_count": 75,
   "id": "53bcfeb0-cb5e-4a0d-8ffb-0bf28d22542e",
   "metadata": {},
   "outputs": [],
   "source": [
    "t = []\n",
    "SP = []\n",
    "DV = []\n",
    "PV = []\n",
    "E = []\n",
    "MV = []\n",
    "MV_P = []\n",
    "MV_I = []\n",
    "MV_D = []\n",
    "MAN = []\n",
    "MV_MAN = []\n",
    "\n",
    "MVFFDelay = []\n",
    "MVFFLL1 = []\n",
    "MV_FF = []\n",
    "\n",
    "PV_LL1 = []\n",
    "PV_LL2 = []\n",
    "\n",
    "MVDelayp = []\n",
    "PV1p = []\n",
    "PV2p = []\n",
    "\n",
    "DVDelayd = []\n",
    "PV1d = []\n",
    "PV2d = []\n"
   ]
  },
  {
   "attachments": {},
   "cell_type": "markdown",
   "id": "889b1b8a",
   "metadata": {},
   "source": [
    "## Margins"
   ]
  },
  {
   "cell_type": "code",
   "execution_count": 76,
   "id": "3f6c7264",
   "metadata": {},
   "outputs": [
    {
     "name": "stdout",
     "output_type": "stream",
     "text": [
      "indiceGain:  None\n",
      "indicePhase:  3512\n",
      "erreur in Margins computation\n"
     ]
    }
   ],
   "source": [
    "P = Process({})\n",
    "P.parameters['Kp'] = Kp\n",
    "P.parameters['theta']=  thetap\n",
    "P.parameters['Tagd1'] = T1p \n",
    "P.parameters['Tlag2'] =  T2p\n",
    "\n",
    "\n",
    "C = Controller({})\n",
    "\n",
    "C.parameters['Kc'] = Kc\n",
    "C.parameters['Ti'] = T_I\n",
    "C.parameters['Td'] = T_D\n",
    "C.parameters['alpha'] = alpha\n",
    "\n",
    "\n",
    "omega = np.logspace(-2, 2, 10000)\n",
    "try:\n",
    "    Margins(P,C,omega)\n",
    "except:\n",
    "    print('erreur in Margins computation')"
   ]
  },
  {
   "attachments": {},
   "cell_type": "markdown",
   "id": "890d8045-769b-441f-ba9b-2b776c93aecf",
   "metadata": {
    "tags": []
   },
   "source": [
    "## Path mode selection"
   ]
  },
  {
   "cell_type": "code",
   "execution_count": 77,
   "id": "e9671e5b-06b5-4a71-8005-14532ae8a272",
   "metadata": {},
   "outputs": [],
   "source": [
    "# Select mode \n",
    "\n",
    "#selectmode=\"OLP_NO_FF\"\n",
    "#selectmode=\"OLP_FF\"\n",
    "#selectmode=\"CLP_NO_FF\"\n",
    "selectmode=\"CLP_FF\"\n"
   ]
  },
  {
   "cell_type": "code",
   "execution_count": 78,
   "id": "7458431f-905c-4dc2-a01d-abb36da37733",
   "metadata": {},
   "outputs": [],
   "source": [
    "# Scenario 1: OLP+ no FF\n",
    "if selectmode==\"OLP_NO_FF\":\n",
    "    ManPath = {0: True, TSim: True}\n",
    "    MVManPath = {0: MV0, TSim: MV0}\n",
    "    SPPath = {0: PV0, TSim: PV0}\n",
    "    DVPath = {0: DV0, 1100: DV0 + 20, 2500:DV0, TSim: DV0}\n",
    "    FF = False\n",
    "    ManFF = True\n",
    "\n",
    "# Scenario 2: OLP+ FF\n",
    "elif selectmode==\"OLP_FF\":\n",
    "\n",
    "    ManPath = {0: True, TSim: True}\n",
    "    MVManPath = {0: MV0, TSim: MV0}\n",
    "    SPPath = {0: PV0, TSim: PV0}\n",
    "    DVPath = {0: DV0, 1100: DV0 + 20, 2500:DV0, TSim: DV0}\n",
    "    FF = True\n",
    "    ManFF = True\n",
    "\n",
    "# Scenario 3: CLP+ no FF\n",
    "elif selectmode==\"CLP_NO_FF\":\n",
    "\n",
    "    ManPath = {0: False, TSim: False}\n",
    "    MVManPath = {0: MV0, TSim: MV0}\n",
    "    SPPath = {0: PV0, TSim: PV0}\n",
    "    DVPath = {0: DV0, 1000: DV0 + 20, 2100:DV0, TSim: DV0}\n",
    "    FF = False\n",
    "    ManFF = False\n",
    "\n",
    "# Scenario 4: CLP+ FF\n",
    "elif selectmode==\"CLP_FF\":\n",
    "\n",
    "    ManPath = {0: False, TSim: False}\n",
    "    MVManPath = {0: MV0, TSim: MV0}\n",
    "    SPPath = {0: PV0, 850: PV0,2100: PV0-20, 3000:PV0, TSim: PV0}\n",
    "    DVPath = {0: DV0, 1100: DV0 + 20, 1600:DV0, TSim: DV0}\n",
    "    FF = True\n",
    "    ManFF = False"
   ]
  },
  {
   "cell_type": "code",
   "execution_count": null,
   "id": "1dbfd2f7-b850-43a9-85a9-06072f0c2477",
   "metadata": {},
   "outputs": [],
   "source": []
  },
  {
   "cell_type": "markdown",
   "id": "2847ad8f-8aea-4cb4-bedd-8d3b860982aa",
   "metadata": {},
   "source": [
    "# Simulation"
   ]
  },
  {
   "cell_type": "code",
   "execution_count": 79,
   "id": "f5f0ba93-db7c-437d-8b81-c6616fdbd58b",
   "metadata": {},
   "outputs": [],
   "source": [
    "for i in range(0,N):\n",
    "    t.append(i*Ts)\n",
    "    \n",
    "    # SP et DV creation\n",
    "    SelectPath_RT(SPPath, t, SP)\n",
    "    SelectPath_RT(DVPath,t,DV)\n",
    "    \n",
    "   #feedforward \n",
    "\n",
    "    if FF== True:\n",
    "        FF_RT(DV, thetad, thetap, Ts, MVFFDelay, KFF, T1p, T1d, MVFFLL1, T2p, T2d, MV_FF, DV0)\n",
    "    else:\n",
    "        LL_RT(DV,0,T2p,T2d,Ts,MV_FF)\n",
    "    \n",
    "    #mode manuel\n",
    "    SelectPath_RT(ManPath,t,MAN)\n",
    "    SelectPath_RT(MVManPath,t,MV_MAN)\n",
    "    \n",
    "    #PID\n",
    "    PID_RT(SP,PV,MAN,MV_MAN,MV_FF,Kc,T_I,T_D,alpha,Ts,MV_MAX,MV_MIN,MV,MV_P,MV_I,MV_D,E,FF)\n",
    "    \n",
    "    \n",
    "    #P(s)\n",
    "    \n",
    "    Delay_RT(MV,thetap,Ts,MVDelayp,MV0)\n",
    "    FO_RT(MVDelayp,Kp,T1p,Ts,PV1p,0)\n",
    "    FO_RT(PV1p,1,T2p,Ts,PV2p,0)\n",
    "    \n",
    "    #D(s)\n",
    "    Delay_RT(DV-DV0*np.ones_like(DV),thetad,Ts,DVDelayd,0)\n",
    "    FO_RT(DVDelayd,Kd,T1d,Ts,PV1d,0)\n",
    "    FO_RT(PV1d,1,T2d,Ts,PV2d,0)   \n",
    "    \n",
    "    PV.append(PV2p[-1]+PV2d[-1]+ (PV0-Kp*MV0) )\n",
    "\n",
    "    "
   ]
  },
  {
   "cell_type": "markdown",
   "id": "208693ca-4f6b-4da3-ac22-199d78258f0f",
   "metadata": {},
   "source": [
    "# Graph"
   ]
  },
  {
   "cell_type": "code",
   "execution_count": 80,
   "id": "85a36174-4cbc-43bd-81b6-ac7d105795b7",
   "metadata": {},
   "outputs": [
    {
     "data": {
      "image/png": "[encoded data removed]",
      "text/plain": [
       "<Figure size 1080x1080 with 3 Axes>"
      ]
     },
     "metadata": {
      "needs_background": "light"
     },
     "output_type": "display_data"
    }
   ],
   "source": [
    "now = datetime.now()\n",
    "date_time = now.strftime(\"%Y-%m-%d-%Hh%M\")\n",
    "\n",
    "plt.figure(figsize = (15,15))\n",
    "plt.subplot(4,1,1)\n",
    "plt.title('CLP_PID_FF_selected_mode_'+selectmode)\n",
    "plt.step(t,PV,'r-', label = 'PV', where='post')\n",
    "plt.step(t,SP,'g-', label = 'SP', where='post')\n",
    "plt.grid()\n",
    "plt.ylabel('Value of PV and SP [°C]')\n",
    "plt.legend(loc='best')\n",
    "plt.xlim([0, TSim])\n",
    "\n",
    "plt.subplot(4,1,2)\n",
    "plt.step(t,DV,'y--', label = 'DV', where='post')\n",
    "plt.ylabel('DV [%]')\n",
    "plt.legend(loc='best')\n",
    "plt.xlim([0, TSim])\n",
    "\n",
    "plt.subplot(4,1,3)\n",
    "plt.step(t,MV,'b', label = 'MV', where='post')\n",
    "plt.step(t,MV_P,'r-', label = 'MV_P', where='post')\n",
    "plt.step(t,MV_I,'y-', label = 'MV_I', where='post')\n",
    "plt.step(t,MV_D,'g-', label = 'MV_D', where='post')\n",
    "plt.step(t,MV_FF,'orange', label = 'MVFF', where='post')\n",
    "plt.ylabel('MV [%]')\n",
    "plt.xlabel('Time [s]')\n",
    "plt.legend(loc='best')\n",
    "plt.xlim([0, TSim])\n",
    "\n",
    "titleName = 'Simulation_'+selectmode+'_' + date_time\n",
    "plt.savefig('Plots\\\\' + titleName + '.png',transparent=True)\n",
    "plt.savefig('Plots\\\\' + titleName + '.pdf',transparent=True)\n"
   ]
  },
  {
   "cell_type": "code",
   "execution_count": null,
   "id": "f0ae1c4b-067f-432c-8277-0457ad0b614d",
   "metadata": {},
   "outputs": [],
   "source": []
  }
 ],
 "metadata": {
  "kernelspec": {
   "display_name": "Python 3",
   "language": "python",
   "name": "python3"
  },
  "language_info": {
   "codemirror_mode": {
    "name": "ipython",
    "version": 3
   },
   "file_extension": ".py",
   "mimetype": "text/x-python",
   "name": "python",
   "nbconvert_exporter": "python",
   "pygments_lexer": "ipython3",
   "version": "3.7.11"
  }
 },
 "nbformat": 4,
 "nbformat_minor": 5
}
