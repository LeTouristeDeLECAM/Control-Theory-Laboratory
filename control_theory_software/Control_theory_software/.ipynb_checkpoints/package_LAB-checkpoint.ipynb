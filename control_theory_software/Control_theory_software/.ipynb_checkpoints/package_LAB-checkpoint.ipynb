{
 "cells": [
  {
   "cell_type": "markdown",
   "id": "2f440cfb-00f2-48d0-b9ff-4d06e96df02c",
   "metadata": {},
   "source": [
    "# package_LAB\n",
    "## imports"
   ]
  },
  {
   "cell_type": "code",
   "execution_count": 1,
   "id": "74f11716-40ec-4a17-a482-186c7f6135cc",
   "metadata": {},
   "outputs": [],
   "source": [
    "import numpy as np\n",
    "import matplotlib.pyplot as plt\n",
    "from scipy.optimize import minimize\n",
    "from matplotlib import colors as mcolors\n",
    "\n",
    "import package_DBR\n",
    "import package_LAB\n",
    "\n",
    "from importlib import reload\n",
    "from package_DBR import myRound, SelectPath_RT, Delay_RT, FO_RT, FOPDT, SOPDT, FOPDT_cost, SOPDT_cost, Process, Bode\n",
    "from package_LAB import LL_RT, PID_RT,IMC_Tuning, FF_RT\n",
    "package_LAB=reload(package_LAB)"
   ]
  },
  {
   "cell_type": "markdown",
   "id": "8a6bcbdc-0e37-4c2c-9dde-947c6495680f",
   "metadata": {},
   "source": [
    "# Lead Lag Real Time : LL_RT()"
   ]
  },
  {
   "cell_type": "code",
   "execution_count": 2,
   "id": "eb34011a-4b3c-4fb1-be02-9d99501b7b85",
   "metadata": {},
   "outputs": [
    {
     "name": "stdout",
     "output_type": "stream",
     "text": [
      "Help on function LL_RT in module package_LAB:\n",
      "\n",
      "LL_RT(MV, Kp, Tlead, Tlag, Ts, PV, PVInit=0, method='EBD')\n",
      "    The function \"LL_RT\" needs to be included in a \"for or while loop\".\n",
      "    \n",
      "    :MV: input vector\n",
      "    :Kp: process gain\n",
      "    :Tlead: lead time constant [s]\n",
      "    :Tlag: lag time constant [s]\n",
      "    :Ts: sampling period [s]\n",
      "    :PV: output vector\n",
      "    :PVInit: (optional: default value is 0)\n",
      "    :method: discretisation method (optional: default value is 'EBD')\n",
      "        EBD: Euler Backward difference\n",
      "        EFD: Euler Forward difference\n",
      "        \n",
      "    \n",
      "    The function \"LL_RT\" appends a value to the output vector \"PV\".\n",
      "    The appended value is obtained from a recurrent equation that depends on the discretisation method.\n",
      "\n"
     ]
    }
   ],
   "source": [
    "help(LL_RT)"
   ]
  },
  {
   "cell_type": "code",
   "execution_count": 3,
   "id": "f80f4e9a-f748-46c4-8db8-7ac1d4168359",
   "metadata": {},
   "outputs": [
    {
     "data": {
      "text/plain": [
       "(0.0, 100.0)"
      ]
     },
     "execution_count": 3,
     "metadata": {},
     "output_type": "execute_result"
    },
    {
     "data": {
      "image/png": "[encoded data removed]",
      "text/plain": [
       "<Figure size 1080x648 with 2 Axes>"
      ]
     },
     "metadata": {
      "needs_background": "light"
     },
     "output_type": "display_data"
    }
   ],
   "source": [
    "TSim = 100\n",
    "Ts = 1\n",
    "N = int(TSim/Ts) + 1\n",
    "\n",
    "# Path for MV\n",
    "MVPath = {0: 0, 5: 1, 50: 2, 80: 3, TSim: 3}\n",
    "\n",
    "t = []\n",
    "MV = []\n",
    "MVDelay = []\n",
    "PV_EBD = []\n",
    "PV_EFD = []\n",
    "PV_TRAP = []\n",
    "\n",
    "# Parameters\n",
    "Kp = 1\n",
    "Tlag = 10\n",
    "Tlead=15\n",
    "theta = 10\n",
    "\n",
    "for i in range(0,N):\n",
    "    t.append(i*Ts)\n",
    "    SelectPath_RT(MVPath,t,MV)\n",
    "    Delay_RT(MV,theta,Ts,MVDelay)\n",
    "    LL_RT(MVDelay,Kp,Tlead,Tlag,Ts,PV_EBD)\n",
    "    LL_RT(MVDelay,Kp,Tlead,Tlag,Ts,PV_EFD,0,'EFD')\n",
    "    \n",
    "    try : \n",
    "        LL_RT(MVDelay,Kp,Tlead,Tlag,Ts,PV_TRAP,0,'TRAP')\n",
    "    except:\n",
    "        print (\"Trapez is not implemented\")\n",
    "    \n",
    "plt.figure(figsize = (15,9))\n",
    "\n",
    "plt.subplot(2,1,1)\n",
    "plt.step(t,MV,'b-',label='MV',where='post')\n",
    "plt.step(t,MVDelay,'b-',linewidth=0.5,label='MV plus delay',where='post')\n",
    "plt.ylabel('Value of MV')\n",
    "plt.title('Lead Lag Real time response')\n",
    "plt.legend(loc='best')\n",
    "plt.xlim([0, TSim])\n",
    "\n",
    "plt.subplot(2,1,2)\n",
    "plt.step(t,PV_EBD,'g-',label='Lead Lag Real time (EBD)',where='post')\n",
    "plt.step(t,PV_EFD,'lime',label='Lead Lag Real time (EFD)',where='post')\n",
    "#plt.step(t,PV_TRAP,'springgreen',label='First order response plus delay (TRAP)',where='post')\n",
    "plt.ylabel('Value of PV')\n",
    "plt.xlabel('Time [s]')\n",
    "plt.legend(loc='best')\n",
    "plt.xlim([0, TSim]) "
   ]
  },
  {
   "cell_type": "markdown",
   "id": "5a97a39a-9dbc-4c0e-b9cf-fbd1ec857a99",
   "metadata": {},
   "source": [
    "# PID_RT :"
   ]
  },
  {
   "cell_type": "code",
   "execution_count": 4,
   "id": "dcfa9769-22a7-4eb8-80d9-5cf840bc0bad",
   "metadata": {},
   "outputs": [],
   "source": [
    "TSim = 60\n",
    "Ts = 0.1\n",
    "N = int(TSim/Ts) + 1\n",
    "\n",
    "# SP path\n",
    "SPPath = {0: 50, 5: 50, 50: 50}\n",
    "\n",
    "#PV path\n",
    "PVPath={0: 50, 5: 40, 50: 50}\n",
    "\n",
    "\n",
    "# MAN path\n",
    "ManPath = {0: False, TSim: False}\n",
    "\n",
    "t=[]\n",
    "\n",
    "SP=[]\n",
    "SPDelay=[]\n",
    "PV=[]\n",
    "PVDelay=[]\n",
    "\n",
    "PV_EBD = []\n",
    "PV_EFD = []\n",
    "PV_TRAP = []\n",
    "\n",
    "MV_P = []\n",
    "MV_I = []\n",
    "MV_D = []\n",
    "MV = []\n",
    "E=[]\n",
    "MV_MAN=[]\n",
    "MAN = []\n",
    "MV_FF=[]"
   ]
  },
  {
   "cell_type": "code",
   "execution_count": 5,
   "id": "00444e39-8d92-4580-960c-71b3937d7479",
   "metadata": {},
   "outputs": [],
   "source": [
    "# Parameters\n",
    "Kp = 1\n",
    "T = 5\n",
    "Tlead=2\n",
    "theta = 10\n",
    "T_I = 10\n",
    "T_D = 1\n",
    "alpha = 0.4\n",
    "MV_MIN = 0 \n",
    "MV_MAX = 100 "
   ]
  },
  {
   "cell_type": "code",
   "execution_count": 6,
   "id": "af60a498-6578-4eed-baaf-96c4387ff151",
   "metadata": {},
   "outputs": [
    {
     "ename": "IndexError",
     "evalue": "list index out of range",
     "output_type": "error",
     "traceback": [
      "\u001b[1;31m---------------------------------------------------------------------------\u001b[0m",
      "\u001b[1;31mIndexError\u001b[0m                                Traceback (most recent call last)",
      "\u001b[1;32m<ipython-input-6-073d43200464>\u001b[0m in \u001b[0;36m<module>\u001b[1;34m\u001b[0m\n\u001b[0;32m      4\u001b[0m     \u001b[0mSelectPath_RT\u001b[0m\u001b[1;33m(\u001b[0m\u001b[0mPVPath\u001b[0m\u001b[1;33m,\u001b[0m\u001b[0mt\u001b[0m\u001b[1;33m,\u001b[0m\u001b[0mPV\u001b[0m\u001b[1;33m)\u001b[0m\u001b[1;33m\u001b[0m\u001b[1;33m\u001b[0m\u001b[0m\n\u001b[0;32m      5\u001b[0m     \u001b[0mSelectPath_RT\u001b[0m\u001b[1;33m(\u001b[0m\u001b[0mManPath\u001b[0m\u001b[1;33m,\u001b[0m\u001b[0mt\u001b[0m\u001b[1;33m,\u001b[0m\u001b[0mMAN\u001b[0m\u001b[1;33m)\u001b[0m\u001b[1;33m\u001b[0m\u001b[1;33m\u001b[0m\u001b[0m\n\u001b[1;32m----> 6\u001b[1;33m     \u001b[0mPID_RT\u001b[0m\u001b[1;33m(\u001b[0m\u001b[0mSP\u001b[0m\u001b[1;33m,\u001b[0m\u001b[0mPV\u001b[0m\u001b[1;33m,\u001b[0m\u001b[0mMAN\u001b[0m\u001b[1;33m,\u001b[0m\u001b[0mMV_MAN\u001b[0m\u001b[1;33m,\u001b[0m\u001b[0mMV_FF\u001b[0m\u001b[1;33m,\u001b[0m\u001b[1;36m2\u001b[0m\u001b[1;33m,\u001b[0m\u001b[0mT_I\u001b[0m\u001b[1;33m,\u001b[0m\u001b[0mT_D\u001b[0m\u001b[1;33m,\u001b[0m\u001b[0malpha\u001b[0m\u001b[1;33m,\u001b[0m\u001b[0mTs\u001b[0m\u001b[1;33m,\u001b[0m\u001b[0mMV_MAX\u001b[0m\u001b[1;33m,\u001b[0m\u001b[0mMV_MIN\u001b[0m\u001b[1;33m,\u001b[0m\u001b[0mMV\u001b[0m\u001b[1;33m,\u001b[0m\u001b[0mMV_P\u001b[0m\u001b[1;33m,\u001b[0m\u001b[0mMV_I\u001b[0m\u001b[1;33m,\u001b[0m\u001b[0mMV_D\u001b[0m\u001b[1;33m,\u001b[0m\u001b[0mE\u001b[0m\u001b[1;33m,\u001b[0m\u001b[1;32mFalse\u001b[0m\u001b[1;33m,\u001b[0m\u001b[1;36m0\u001b[0m\u001b[1;33m)\u001b[0m\u001b[1;33m\u001b[0m\u001b[1;33m\u001b[0m\u001b[0m\n\u001b[0m\u001b[0;32m      7\u001b[0m \u001b[1;33m\u001b[0m\u001b[0m\n\u001b[0;32m      8\u001b[0m \u001b[0mplt\u001b[0m\u001b[1;33m.\u001b[0m\u001b[0mfigure\u001b[0m\u001b[1;33m(\u001b[0m\u001b[0mfigsize\u001b[0m \u001b[1;33m=\u001b[0m \u001b[1;33m(\u001b[0m\u001b[1;36m15\u001b[0m\u001b[1;33m,\u001b[0m\u001b[1;36m9\u001b[0m\u001b[1;33m)\u001b[0m\u001b[1;33m)\u001b[0m\u001b[1;33m\u001b[0m\u001b[1;33m\u001b[0m\u001b[0m\n",
      "\u001b[1;32m~\\OneDrive - ECAM\\Documents\\Cours ECAM\\4MIN\\Q2 21-22\\Control theory\\2023\\Laboratory\\control_theory_software\\Control_theory_software\\package_LAB.py\u001b[0m in \u001b[0;36mPID_RT\u001b[1;34m(SP, PV, MAN, MV_MAN, MV_FF, K_C, T_I, T_D, alpha, Ts, MV_MAX, MV_MIN, MV, MV_P, MV_I, MV_D, E, MAN_FF, PVInit, method)\u001b[0m\n\u001b[0;32m    149\u001b[0m         \u001b[0mMV_D\u001b[0m\u001b[1;33m.\u001b[0m\u001b[0mappend\u001b[0m\u001b[1;33m(\u001b[0m\u001b[1;36m0\u001b[0m\u001b[1;33m)\u001b[0m\u001b[1;33m\u001b[0m\u001b[1;33m\u001b[0m\u001b[0m\n\u001b[0;32m    150\u001b[0m \u001b[1;33m\u001b[0m\u001b[0m\n\u001b[1;32m--> 151\u001b[1;33m         \u001b[0mMV\u001b[0m\u001b[1;33m.\u001b[0m\u001b[0mappend\u001b[0m\u001b[1;33m(\u001b[0m\u001b[0mMV_MAN\u001b[0m\u001b[1;33m[\u001b[0m\u001b[1;33m-\u001b[0m\u001b[1;36m1\u001b[0m\u001b[1;33m]\u001b[0m\u001b[1;33m)\u001b[0m\u001b[1;33m\u001b[0m\u001b[1;33m\u001b[0m\u001b[0m\n\u001b[0m\u001b[0;32m    152\u001b[0m \u001b[1;33m\u001b[0m\u001b[0m\n\u001b[0;32m    153\u001b[0m         \u001b[1;31m#if len(MV_MAN)==0:\u001b[0m\u001b[1;33m\u001b[0m\u001b[1;33m\u001b[0m\u001b[1;33m\u001b[0m\u001b[0m\n",
      "\u001b[1;31mIndexError\u001b[0m: list index out of range"
     ]
    }
   ],
   "source": [
    "for i in range(0,N):\n",
    "    t.append(i*Ts)\n",
    "    SelectPath_RT(SPPath,t,SP)\n",
    "    SelectPath_RT(PVPath,t,PV)\n",
    "    SelectPath_RT(ManPath,t,MAN)\n",
    "    PID_RT(SP,PV,MAN,MV_MAN,MV_FF,2,T_I,T_D,alpha,Ts,MV_MAX,MV_MIN,MV,MV_P,MV_I,MV_D,E,False,0)\n",
    "    \n",
    "plt.figure(figsize = (15,9))\n",
    "\n",
    "plt.subplot(3,1,1)\n",
    "plt.step(t,E,'b-', label='E', where='post')\n",
    "plt.legend(loc='best')\n",
    "plt.title('step response of the PID')\n",
    "plt.ylabel('Value of E')\n",
    "plt.xlim([0, TSim])\n",
    "\n",
    "\n",
    "\n",
    "plt.subplot(3,1,2)\n",
    "plt.step(t,MV,'springgreen',label='MV',where='post')\n",
    "plt.step(t,MV_P,'r--',label='MV_P',where='post')\n",
    "plt.step(t,MV_I,'y--',label='MV_I',where='post')\n",
    "plt.step(t,MV_D,'g--',label='MV_D',where='post')\n",
    "plt.ylabel('Value of MV [%]')\n",
    "plt.xlabel('time [s]')\n",
    "plt.legend(loc='best')\n",
    "\n",
    "plt.xlim([0, TSim])\n",
    "\n",
    "\n"
   ]
  },
  {
   "cell_type": "markdown",
   "id": "fe3fa2fc-36cc-406a-8dee-a4d1e8d6edfb",
   "metadata": {},
   "source": [
    "# PID MAN mode"
   ]
  },
  {
   "cell_type": "code",
   "execution_count": null,
   "id": "cb2c93a8-59b2-4a5e-8785-204686e4ca16",
   "metadata": {},
   "outputs": [],
   "source": [
    "TSim = 60\n",
    "Ts = 0.1\n",
    "N = int(TSim/Ts) + 1\n",
    "\n",
    "# SP path\n",
    "SPPath = {0: 40,5:60,TSim:60}\n",
    "\n",
    "#MV PATH\n",
    "MVPath = {0:0,50: 30,70:30}\n",
    "\n",
    "#PV path\n",
    "MVmanPath = {0: 30,TSim:60}\n",
    "\n",
    "# MAN path\n",
    "ManPath = {0:False,20:True,30:False,TSim:False}\n",
    "\n",
    "t=[]\n",
    "\n",
    "SP=[]\n",
    "SPDelay=[]\n",
    "PV=[]\n",
    "PVDelay=[]\n",
    "\n",
    "PV_EBD = []\n",
    "PV_EFD = []\n",
    "PV_TRAP = []\n",
    "\n",
    "MV_P = []\n",
    "MV_I = []\n",
    "MV_D = []\n",
    "MV = []\n",
    "E=[]\n",
    "MV_MAN=[]\n",
    "MAN = []\n",
    "MV_FF=[]"
   ]
  },
  {
   "cell_type": "code",
   "execution_count": null,
   "id": "fc5468a0-ff14-42a1-ade4-4f92b6871a3f",
   "metadata": {},
   "outputs": [],
   "source": [
    "# Parameters\n",
    "Kp = 1\n",
    "T = 5\n",
    "Tlead=2\n",
    "theta = 10\n",
    "T_I = 10\n",
    "T_D = 1\n",
    "alpha = 2 \n",
    "MV_MIN = 0 \n",
    "MV_MAX = 100 "
   ]
  },
  {
   "cell_type": "code",
   "execution_count": null,
   "id": "0f6cc676-d2d1-4235-9d87-e177c7fc421e",
   "metadata": {},
   "outputs": [],
   "source": [
    "for i in range(0,N):\n",
    "    t.append(i*Ts)\n",
    "    SelectPath_RT(SPPath,t,SP)\n",
    "    SelectPath_RT(PVPath,t,PV)\n",
    "    SelectPath_RT(ManPath,t,MAN)\n",
    "    SelectPath_RT(MVmanPath,t,MV_MAN)\n",
    "    PID_RT(SP,PV,MAN,MV_MAN,MV_FF,2,T_I,T_D,alpha,Ts,MV_MAX,MV_MIN,MV,MV_P,MV_I,MV_D,E,False,0)\n",
    "    \n",
    "plt.figure(figsize = (20,20))\n",
    "\n",
    "plt.subplot(6,1,1)\n",
    "plt.step(t,MV_P,'r--',label='MV_P',where='post')\n",
    "plt.step(t,MV_I,'y--',label='MV_I',where='post')\n",
    "plt.step(t,MV_D,'g--',label='MV_D',where='post')\n",
    "plt.step(t,MV,'springgreen',label='MV',where='post')\n",
    "plt.title('step response of the PID')\n",
    "plt.ylabel('Value of MV [%]')\n",
    "plt.legend(loc='best')\n",
    "plt.xlim([0, TSim])\n",
    "\n",
    "plt.subplot(6,1,2)\n",
    "plt.step(t,SP,color = 'orange', label='SP', where='post')\n",
    "plt.step(t,E,'b-', label='E', where='post')\n",
    "plt.ylabel('Value of E and SP')\n",
    "plt.legend(loc='best')\n",
    "plt.xlim([0, TSim])\n",
    "\n",
    "\n",
    "plt.subplot(6,1,3)\n",
    "plt.step(t,MAN,'b-',label='MAN',where='post')\n",
    "plt.ylabel('Value of Man')\n",
    "plt.xlabel('time [s]')\n",
    "plt.legend(loc='best')\n",
    "plt.xlim([0, TSim])\n"
   ]
  },
  {
   "cell_type": "markdown",
   "id": "ce3c351e-78c6-42a2-871e-1cd19097ead2",
   "metadata": {},
   "source": [
    "# IMC Tuning "
   ]
  },
  {
   "cell_type": "code",
   "execution_count": null,
   "id": "6c9cabc9-cc72-4b43-b954-54c14c8cb983",
   "metadata": {},
   "outputs": [],
   "source": [
    "help(IMC_Tuning)"
   ]
  },
  {
   "cell_type": "code",
   "execution_count": null,
   "id": "eec6d6f1-5743-4cb4-92c2-ab9f38ad0ffa",
   "metadata": {},
   "outputs": [],
   "source": [
    "#Parameters:\n",
    "Kp =  0.553358040201031 # K\n",
    "T1p =  184.504684095101 # T1\n",
    "T2p =   1.78243605751087E-07 # T2\n",
    "thetap =  6.19336906382859 # theta\n",
    "\n",
    "gamma=0.9 # changement de marge gamma = changement marge de gain et marge de phase \n",
    "          # Bonne pratique gama [0,2...0,9] plus gamma est petit plus agressive"
   ]
  },
  {
   "cell_type": "code",
   "execution_count": null,
   "id": "ce56d180-c097-46f4-b61e-9ca7069eb2b9",
   "metadata": {},
   "outputs": [],
   "source": [
    "\n",
    "print (\"IMc tuning premier ordre plus délai\")\n",
    "Kc,Ti,Td= IMC_Tuning(Kp,T1p,T2p,thetap,gamma,'FOPDT')\n",
    "print('Kc=',Kc,'tI= ',Ti,'tD= ',Td)\n",
    "\n",
    "print (\"IMc tuning deuxième ordre plus délai\")\n",
    "Kc,Ti,Td,alpha = IMC_Tuning(Kp,T1p,T2p,thetap,gamma,'SOPDT')\n",
    "print('Kc=',Kc,'tI= ',Ti,'tD= ',Td)\n"
   ]
  },
  {
   "cell_type": "markdown",
   "id": "f770079a-e893-48ab-adf8-5aa94d4a1e11",
   "metadata": {},
   "source": [
    "# Margnins"
   ]
  },
  {
   "cell_type": "code",
   "execution_count": null,
   "id": "adeeea0d-67fb-4241-b32f-cebba8982b02",
   "metadata": {},
   "outputs": [],
   "source": [
    "P = Process({}) # Default process = unit gain\n",
    "\n",
    "# Parameters for input-output dynamics P(s)\n",
    "P.parameters['Kp'] = 0.5707425748689002\n",
    "P.parameters['Tlag1'] = 196.07639597042842\n",
    "P.parameters['Tlag2'] = 0.00019390337258466675\n",
    "P.parameters['theta'] = 5.404503767391171\n",
    "\n",
    "C = Regulator ({})\n",
    "\n",
    "C.parameters['Kc'] = 1.88893330234\n",
    "C.parameters['Ti'] = 196.076589874\n",
    "C.parameters['Td'] =  0.00019390318\n",
    "C.parameters['alpha'] =  0.9\n",
    "C.parameters['theta'] = 5.404503767391171\n",
    "\n",
    "#1.5384622501318148 117.61378024737488 5.440640013908966e-05 0.4\n",
    "Kp =0.5707425748689002 # K\n",
    "T1p = 196.07639597042842 # T1\n",
    "T2p = 0.00019390337258466675 # T2\n",
    "thetap = 5.404503767391171\n",
    "\n",
    "omega = np.logspace(-4,2, 10000)\n",
    "\n",
    "margins(P,C,omega)"
   ]
  },
  {
   "cell_type": "markdown",
   "id": "cdc098d1-1c32-4bfc-9858-b58b26b7142d",
   "metadata": {},
   "source": [
    "# Close loop simulation ff"
   ]
  },
  {
   "cell_type": "code",
   "execution_count": null,
   "id": "1016accf-436f-4d0a-a014-75d11bdbec26",
   "metadata": {},
   "outputs": [],
   "source": []
  },
  {
   "cell_type": "code",
   "execution_count": null,
   "id": "cea4254b-3e1a-4f18-85b6-5a9418dd9363",
   "metadata": {},
   "outputs": [],
   "source": [
    "TSim = 100\n",
    "Ts = 0.1\n",
    "N = int(TSim/Ts) + 1\n",
    "\n",
    "PVPath = {0: 40,TSim:40}\n",
    "MVPath = {0:30,50: 30,70:30}\n",
    "SPPath = {0: 40,5:50,TSim:50}\n",
    "ManPath = {0:False,30:False,80:False,TSim:False}\n",
    "DVPath = {0:20,10:0,50:10}\n",
    "\n",
    "t=[]\n",
    "DV =[]\n",
    "SP=[]\n",
    "SPDelay=[]\n",
    "PV=[]\n",
    "PVDelay=[]\n",
    "MVFFLL1 = []\n",
    "\n",
    "PV_EBD = []\n",
    "PV_EFD = []\n",
    "PV_TRAP = []\n",
    "\n",
    "MV_P = []\n",
    "MV_I = []\n",
    "MV_D = []\n",
    "MV = []\n",
    "E=[]\n",
    "\n",
    "MV_MAN=[] # fixer la valeur à 50 et séparer les graphes\n",
    "MAN = []\n",
    "MV_FF=[]\n",
    "\n",
    "PV_LL1 = []\n",
    "PV_LL2 = []\n",
    "\n",
    "\n",
    "Kc = 1.1090769743807767\n",
    "\n",
    "T= 5\n",
    "theta = 5.404503767391171\n",
    "Ti = 187.6013686270153\n",
    "Td = 3.0455684064809954\n",
    "alpha = 0.25\n",
    "\n",
    "MV_Min = 0\n",
    "MV_Max =100\n",
    "\n",
    "thetad = 1.8616011374729724\n",
    "Kd = 2.8753838088290746 \n",
    "Kp = 0.5707425748689002\n",
    "\n",
    "Tlead1 = 2\n",
    "Tlag1 = 1\n",
    "\n",
    "Tlead2 = 1\n",
    "Tlag2 = 20\n",
    "\n",
    "thetaD = 10\n",
    "thetaP = 5"
   ]
  },
  {
   "cell_type": "code",
   "execution_count": null,
   "id": "7baa14d5-0246-413b-a0fa-c23157adc4cd",
   "metadata": {},
   "outputs": [],
   "source": [
    "for i in range(0,N):\n",
    "    t.append(i*Ts)\n",
    "    SelectPath_RT(SPPath, t, SP)\n",
    "    #print(SP)\n",
    "    SelectPath_RT(PVPath, t, PV)\n",
    "    SelectPath_RT(ManPath, t, MAN)\n",
    "    SelectPath_RT(MVPath, t, MV_MAN)\n",
    "    SelectPath_RT(DVPath,t,DV)\n",
    "    \n",
    "    \n",
    "    FF_RT(DV,Kd,Kp,Tlead1,Tlag1,Tlead2,Tlag2,thetaD,thetaP,Ts,MV_FF,PV_LL1,PV_LL2,Dv0=0)\n",
    "    #Delay_RT(DV - DV0 * np.ones_like(DV), np.max([thetad - thetap, 0]), Ts, MVFFDelay)\n",
    "    #LL_RT(MVFFDelay, KFF, T1p, T1d, Ts, MVFFLL1)\n",
    "    #LL_RT(MVFFLL1,1,T2p,T2d,Ts,PV_LL2,PVInit=0,method='EBD')\n",
    "    \n",
    "\n",
    "    PID_RT(SP,PV,MAN,MV_MAN,MV_FF,Kc,T_I,T_D,alpha,Ts,MV_MAX,MV_MIN,MV,MV_P,MV_I,MV_D,E,False,0,method='EBD_EBD')\n",
    "    \n",
    "\n",
    "\n",
    "plt.figure(figsize = (17,17))\n",
    "\n",
    "plt.subplot(2,1,1)\n",
    "plt.step(t,MV_P,'r-', label = 'MV_P', where='post')\n",
    "plt.step(t,MV_I,'y-', label = 'MV_I', where='post')\n",
    "#plt.step(t,MV_FF,'orange', label = 'MV_FF', where='post')\n",
    "\n",
    "plt.step(t,MV,'b-', label = 'MV', where='post')\n",
    "plt.ylabel('Value of MV')\n",
    "plt.title('PID with FF')\n",
    "plt.legend(loc='best')\n",
    "plt.xlim([0, TSim])\n",
    "\n",
    "plt.subplot(2,1,2)\n",
    "plt.step(t,DV,'springgreen', label = 'DV', where='post')\n",
    "plt.step(t,SP,'g-', label = 'SP', where='post')\n",
    "plt.legend(loc='best')\n",
    "plt.xlim([0, TSim])"
   ]
  },
  {
   "cell_type": "code",
   "execution_count": null,
   "id": "cb2d78c1-4651-479a-b2b4-a42f8f684985",
   "metadata": {},
   "outputs": [],
   "source": []
  }
 ],
 "metadata": {
  "kernelspec": {
   "display_name": "Python 3",
   "language": "python",
   "name": "python3"
  },
  "language_info": {
   "codemirror_mode": {
    "name": "ipython",
    "version": 3
   },
   "file_extension": ".py",
   "mimetype": "text/x-python",
   "name": "python",
   "nbconvert_exporter": "python",
   "pygments_lexer": "ipython3",
   "version": "3.7.11"
  }
 },
 "nbformat": 4,
 "nbformat_minor": 5
}
